{
 "cells": [
  {
   "cell_type": "code",
   "execution_count": null,
   "id": "488729a5-30c1-48fe-b28b-dbfd738f276a",
   "metadata": {},
   "outputs": [],
   "source": [
    "# SUPPORT VECTOR MACHINE MODEL WITH OPTIMIZATION (GRIDSEARCHCV)"
   ]
  },
  {
   "cell_type": "code",
   "execution_count": 1,
   "id": "ee387cdb-ca5b-4cc3-8d62-8407c96ddf58",
   "metadata": {},
   "outputs": [
    {
     "name": "stdout",
     "output_type": "stream",
     "text": [
      "\n",
      "Training Set Shape: (1760, 7), Testing Set Shape: (440, 7)\n",
      "Linear Kernel Accuracy:  0.9772727272727273\n",
      "Rbf Kernel Accuracy:  0.9681818181818181\n",
      "Poly Kernel Accuracy:  0.9204545454545454\n",
      "\n",
      "Best score for Linear Kernel Accuracy\n",
      "0.984659090909091\n",
      "{'C': 0.01, 'gamma': 0.001}\n"
     ]
    }
   ],
   "source": [
    "# Import all required libraries \n",
    "\n",
    "import pandas as pd\n",
    "import numpy as np\n",
    "import matplotlib.pyplot as plt\n",
    "import seaborn as sns\n",
    "from sklearn.model_selection import train_test_split\n",
    "from sklearn.preprocessing import StandardScaler, LabelEncoder\n",
    "from sklearn.svm import SVC\n",
    "from sklearn.model_selection import GridSearchCV\n",
    "\n",
    "# Load the dataset from the local directory as CSV\n",
    "# The dataset is a CSV file\n",
    "file_path = r\"C:\\Users\\HP win10\\Desktop\\Course Moodle\\COM7003 Artificial Intelligence\\crop_data.csv\"\n",
    "crops = pd.read_csv(file_path)\n",
    "\n",
    "# Use Label Encoding on target variable to make it suitable for training\n",
    "# This converts the categorical target variable to numerical values \n",
    "label_encoder = LabelEncoder()\n",
    "crops[\"label_encoded\"] = label_encoder.fit_transform(crops[\"label\"])\n",
    "\n",
    "# Separate the 'Features' from the 'Target' variables\n",
    "X = crops.drop(columns=[\"label\", \"label_encoded\"]) # independent variable (features)\n",
    "y = crops[\"label_encoded\"] # dependent variable (Target in numerical values)\n",
    "y2 = crops[\"label\"] # dependent variable (Target in categorical values)\n",
    "\n",
    "# Split the data into 80% training and 20% testing sets\n",
    "X_train, X_test, y_train, y_test = train_test_split(X, y, test_size=0.2, random_state=42)\n",
    "print(f\"\\nTraining Set Shape: {X_train.shape}, Testing Set Shape: {X_test.shape}\")\n",
    "\n",
    "# Standardize the features\n",
    "scaler = StandardScaler()\n",
    "X_train_scaled = scaler.fit_transform(X_train)\n",
    "X_test_scaled = scaler.transform(X_test)\n",
    "\n",
    "svc_linear = SVC(kernel = 'linear').fit(X_train_scaled, y_train)\n",
    "print(\"Linear Kernel Accuracy: \",svc_linear.score(X_test_scaled,y_test))\n",
    "\n",
    "svc_poly = SVC(kernel = 'rbf').fit(X_train_scaled, y_train)\n",
    "print(\"Rbf Kernel Accuracy: \", svc_poly.score(X_test_scaled,y_test))\n",
    "\n",
    "svc_poly = SVC(kernel = 'poly').fit(X_train_scaled, y_train)\n",
    "print(\"Poly Kernel Accuracy: \", svc_poly.score(X_test_scaled,y_test))\n",
    "\n",
    "# Increase SVC Linear model accuracy with Parameter Tuning.\n",
    "# Using GridSearchCV to find the best parameters.\n",
    "\n",
    "parameters = {'C': np.logspace(-3, 2, 6).tolist(), 'gamma': np.logspace(-3, 2, 6).tolist()}\n",
    "\n",
    "model = GridSearchCV(estimator = SVC(kernel=\"linear\"), param_grid=parameters, n_jobs=-1, cv=4)\n",
    "model.fit(X_train, y_train)\n",
    "GridSearchCV(cv=4, estimator=SVC(kernel='linear'), n_jobs=-1,\n",
    "             param_grid={'C': [0.001, 0.01, 0.1, 1.0, 10.0, 100.0],\n",
    "                         'gamma': [0.001, 0.01, 0.1, 1.0, 10.0, 100.0]})\n",
    "\n",
    "print(\"\\nBest score for Linear Kernel Accuracy\")\n",
    "print(model.best_score_ )\n",
    "print(model.best_params_ )\n"
   ]
  },
  {
   "cell_type": "code",
   "execution_count": null,
   "id": "04036ed4-a7aa-4d6c-9891-ddca346156f3",
   "metadata": {},
   "outputs": [],
   "source": []
  }
 ],
 "metadata": {
  "kernelspec": {
   "display_name": "Python 3 (ipykernel)",
   "language": "python",
   "name": "python3"
  },
  "language_info": {
   "codemirror_mode": {
    "name": "ipython",
    "version": 3
   },
   "file_extension": ".py",
   "mimetype": "text/x-python",
   "name": "python",
   "nbconvert_exporter": "python",
   "pygments_lexer": "ipython3",
   "version": "3.12.7"
  }
 },
 "nbformat": 4,
 "nbformat_minor": 5
}
