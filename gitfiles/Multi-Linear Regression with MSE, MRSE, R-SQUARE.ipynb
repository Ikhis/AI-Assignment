{
 "cells": [
  {
   "cell_type": "code",
   "execution_count": null,
   "id": "488729a5-30c1-48fe-b28b-dbfd738f276a",
   "metadata": {},
   "outputs": [],
   "source": [
    "# MULTI-LINEAR REGRESSION MODEL WITH EVALUATION METRICS (MSE, MRSE, R-SQUARE)"
   ]
  },
  {
   "cell_type": "code",
   "execution_count": 4,
   "id": "ee387cdb-ca5b-4cc3-8d62-8407c96ddf58",
   "metadata": {},
   "outputs": [
    {
     "name": "stdout",
     "output_type": "stream",
     "text": [
      "\n",
      "Model Coefficients:\n",
      "Intercept: 10.54375\n",
      "Feature Coefficients: {'N': -1.212458717433798, 'P': -3.08741567202591, 'K': -0.3425861582969495, 'temperature': 0.07042617809090644, 'humidity': 1.1419484290254651, 'ph': -0.4709710377229069, 'rainfall': 0.019972584282661153}\n",
      "\n",
      "Actual vs Predicted Crop (First 5 rows):\n",
      "      Actual  Predicted\n",
      "1451      15  13.704625\n",
      "1334      21  14.103436\n",
      "1761      17  10.566377\n",
      "1735      17  10.993888\n",
      "1576       0   3.921796\n",
      "\n",
      "Model Performance Metrics:\n",
      "Mean Squared Error (MSE): 31.47\n",
      "Root Mean Squared Error (RMSE): 5.61\n",
      "R-squared (R²): 0.26\n"
     ]
    }
   ],
   "source": [
    "# Import all required libraries \n",
    "\n",
    "import pandas as pd\n",
    "import numpy as np\n",
    "import matplotlib.pyplot as plt\n",
    "import seaborn as sns\n",
    "from sklearn.linear_model import LogisticRegression, LinearRegression\n",
    "from sklearn.model_selection import train_test_split\n",
    "from sklearn.preprocessing import MinMaxScaler, StandardScaler, LabelEncoder\n",
    "from sklearn.metrics import (accuracy_score, precision_score, recall_score, f1_score,\n",
    "                             confusion_matrix, classification_report, roc_auc_score,\n",
    "                             mean_squared_error, r2_score)\n",
    "from sklearn.preprocessing import label_binarize\n",
    "\n",
    "# Load the dataset from the local directory as CSV\n",
    "# The dataset is a CSV file\n",
    "file_path = r\"C:\\Users\\HP win10\\Desktop\\Course Moodle\\COM7003 Artificial Intelligence\\crop_data.csv\"\n",
    "crops = pd.read_csv(file_path)\n",
    "\n",
    "# Use Label Encoding on target variable to make it suitable for training\n",
    "# This converts the categorical target variable to numerical values \n",
    "label_encoder = LabelEncoder()\n",
    "crops[\"label_encoded\"] = label_encoder.fit_transform(crops[\"label\"])\n",
    "\n",
    "# Separate the 'Features' from the 'Target' variables\n",
    "X = crops.drop(columns=[\"label\", \"label_encoded\"]) # independent variable (features)\n",
    "y = crops[\"label_encoded\"] # dependent variable (Target in numerical values)\n",
    "y2 = crops[\"label\"] # dependent variable (Target in categorical values)\n",
    "\n",
    "# Split the data into 80% training and 20% testing sets\n",
    "X_train, X_test, y_train, y_test = train_test_split(X, y, test_size=0.2, random_state=42)\n",
    "\n",
    "# Standardize the features\n",
    "scaler = StandardScaler()\n",
    "X_train_scaled = scaler.fit_transform(X_train)\n",
    "X_test_scaled = scaler.transform(X_test)\n",
    "\n",
    "# Train A Multiple Linear Regression Model\n",
    "mul_reg = LinearRegression()  # Initialize the model\n",
    "mul_reg.fit(X_train_scaled, y_train) # Train the model on the training data\n",
    "\n",
    "# Display model coefficients\n",
    "print(\"\\nModel Coefficients:\")\n",
    "print(f\"Intercept: {mul_reg.intercept_}\")\n",
    "print(f\"Feature Coefficients: {dict(zip(X.columns, mul_reg.coef_))}\")\n",
    "\n",
    "# MAKE PREDICTION\n",
    "y_pred = mul_reg.predict(X_test_scaled)\n",
    "\n",
    "# Compare actual vs predicted values\n",
    "results = pd.DataFrame({'Actual': y_test, 'Predicted': y_pred})\n",
    "print(\"\\nActual vs Predicted Crop (First 5 rows):\")\n",
    "print(results.head())\n",
    "\n",
    "# EVALUATE MODEL PERFORMANCE\n",
    "mse = mean_squared_error(y_test, y_pred)\n",
    "rmse = np.sqrt(mse)\n",
    "r2 = r2_score(y_test, y_pred)\n",
    "\n",
    "print(\"\\nModel Performance Metrics:\")\n",
    "print(f\"Mean Squared Error (MSE): {mse:.2f}\")\n",
    "print(f\"Root Mean Squared Error (RMSE): {rmse:.2f}\")\n",
    "print(f\"R-squared (R²): {r2:.2f}\")\n"
   ]
  },
  {
   "cell_type": "code",
   "execution_count": null,
   "id": "11dd8fe8-7ab1-4298-a818-fd93d9b48e33",
   "metadata": {},
   "outputs": [],
   "source": []
  }
 ],
 "metadata": {
  "kernelspec": {
   "display_name": "Python 3 (ipykernel)",
   "language": "python",
   "name": "python3"
  },
  "language_info": {
   "codemirror_mode": {
    "name": "ipython",
    "version": 3
   },
   "file_extension": ".py",
   "mimetype": "text/x-python",
   "name": "python",
   "nbconvert_exporter": "python",
   "pygments_lexer": "ipython3",
   "version": "3.12.7"
  }
 },
 "nbformat": 4,
 "nbformat_minor": 5
}
